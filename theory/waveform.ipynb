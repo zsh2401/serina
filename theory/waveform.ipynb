{
 "cells": [
  {
   "cell_type": "code",
   "execution_count": 9,
   "id": "initial_id",
   "metadata": {
    "collapsed": true,
    "ExecuteTime": {
     "end_time": "2024-01-04T04:46:40.514560Z",
     "start_time": "2024-01-04T04:46:40.498649Z"
    }
   },
   "outputs": [
    {
     "data": {
      "text/plain": "tensor([[-0.0244, -0.0258,  0.0320,  ...,  0.0435,  0.0452,  0.0471]])"
     },
     "execution_count": 9,
     "metadata": {},
     "output_type": "execute_result"
    }
   ],
   "source": [
    "from serina import SoundDataset\n",
    "ds = SoundDataset(0,1)\n",
    "waveform,_,path,_ = ds.get_raw_info(0)\n",
    "waveform"
   ]
  },
  {
   "cell_type": "code",
   "execution_count": 10,
   "outputs": [
    {
     "name": "stdout",
     "output_type": "stream",
     "text": [
      "tensor([-0.0244, -0.0258,  0.0320,  ...,  0.0435,  0.0452,  0.0471])\n"
     ]
    }
   ],
   "source": [
    "import torch\n",
    "import numpy as np\n",
    "\n",
    "with open(path,\"rb\") as f:\n",
    "    wav_data = f.read()\n",
    "    audio_data = np.frombuffer(wav_data[44:], dtype=np.int16)\n",
    "    waveform = torch.from_numpy(audio_data).float()\n",
    "    waveform /= 32768\n",
    "    print(waveform)"
   ],
   "metadata": {
    "collapsed": false,
    "ExecuteTime": {
     "end_time": "2024-01-04T04:47:12.232525Z",
     "start_time": "2024-01-04T04:47:12.225627Z"
    }
   },
   "id": "eb2afcd362b1c3ef"
  },
  {
   "cell_type": "code",
   "execution_count": null,
   "outputs": [],
   "source": [],
   "metadata": {
    "collapsed": false
   },
   "id": "6cb36e8063999a7e"
  }
 ],
 "metadata": {
  "kernelspec": {
   "display_name": "Python 3",
   "language": "python",
   "name": "python3"
  },
  "language_info": {
   "codemirror_mode": {
    "name": "ipython",
    "version": 2
   },
   "file_extension": ".py",
   "mimetype": "text/x-python",
   "name": "python",
   "nbconvert_exporter": "python",
   "pygments_lexer": "ipython2",
   "version": "2.7.6"
  }
 },
 "nbformat": 4,
 "nbformat_minor": 5
}
