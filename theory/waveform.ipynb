{
 "cells": [
  {
   "cell_type": "code",
   "execution_count": 2,
   "id": "initial_id",
   "metadata": {
    "collapsed": true,
    "ExecuteTime": {
     "end_time": "2024-01-05T04:42:48.914184080Z",
     "start_time": "2024-01-05T04:42:48.909552617Z"
    }
   },
   "outputs": [
    {
     "data": {
      "text/plain": "tensor([[-0.0244, -0.0258,  0.0320,  ...,  0.0435,  0.0452,  0.0471]])"
     },
     "execution_count": 2,
     "metadata": {},
     "output_type": "execute_result"
    }
   ],
   "source": [
    "from serina import SoundDataset\n",
    "ds = SoundDataset(0,1)\n",
    "waveform,_,path,_ = ds.get_raw_info(0)\n",
    "waveform"
   ]
  },
  {
   "cell_type": "code",
   "execution_count": 3,
   "outputs": [
    {
     "name": "stdout",
     "output_type": "stream",
     "text": [
      "tensor([-0.0244, -0.0258,  0.0320,  ...,  0.0435,  0.0452,  0.0471])\n"
     ]
    },
    {
     "name": "stderr",
     "output_type": "stream",
     "text": [
      "/tmp/ipykernel_18800/952864163.py:7: UserWarning: The given NumPy array is not writable, and PyTorch does not support non-writable tensors. This means writing to this tensor will result in undefined behavior. You may want to copy the array to protect its data or make it writable before converting it to a tensor. This type of warning will be suppressed for the rest of this program. (Triggered internally at ../torch/csrc/utils/tensor_numpy.cpp:206.)\n",
      "  waveform = torch.from_numpy(audio_data).float()\n"
     ]
    }
   ],
   "source": [
    "import torch\n",
    "import numpy as np\n",
    "\n",
    "with open(path,\"rb\") as f:\n",
    "    wav_data = f.read()\n",
    "    audio_data = np.frombuffer(wav_data[44:], dtype=np.int16)\n",
    "    waveform = torch.from_numpy(audio_data).float()\n",
    "    waveform /= 32768\n",
    "    print(waveform)"
   ],
   "metadata": {
    "collapsed": false,
    "ExecuteTime": {
     "end_time": "2024-01-05T04:42:48.975573696Z",
     "start_time": "2024-01-05T04:42:48.910402100Z"
    }
   },
   "id": "eb2afcd362b1c3ef"
  },
  {
   "cell_type": "code",
   "execution_count": 3,
   "outputs": [],
   "source": [],
   "metadata": {
    "collapsed": false,
    "ExecuteTime": {
     "end_time": "2024-01-05T04:42:48.976220381Z",
     "start_time": "2024-01-05T04:42:48.932683902Z"
    }
   },
   "id": "6cb36e8063999a7e"
  }
 ],
 "metadata": {
  "kernelspec": {
   "display_name": "Python 3",
   "language": "python",
   "name": "python3"
  },
  "language_info": {
   "codemirror_mode": {
    "name": "ipython",
    "version": 2
   },
   "file_extension": ".py",
   "mimetype": "text/x-python",
   "name": "python",
   "nbconvert_exporter": "python",
   "pygments_lexer": "ipython2",
   "version": "2.7.6"
  }
 },
 "nbformat": 4,
 "nbformat_minor": 5
}
