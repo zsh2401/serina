{
 "cells": [
  {
   "cell_type": "code",
   "execution_count": 8,
   "id": "initial_id",
   "metadata": {
    "collapsed": true,
    "ExecuteTime": {
     "end_time": "2024-01-05T04:47:25.562155005Z",
     "start_time": "2024-01-05T04:47:25.545589313Z"
    }
   },
   "outputs": [
    {
     "ename": "ModuleNotFoundError",
     "evalue": "No module named 'librosa'",
     "output_type": "error",
     "traceback": [
      "\u001B[0;31m---------------------------------------------------------------------------\u001B[0m",
      "\u001B[0;31mModuleNotFoundError\u001B[0m                       Traceback (most recent call last)",
      "Cell \u001B[0;32mIn[8], line 1\u001B[0m\n\u001B[0;32m----> 1\u001B[0m \u001B[38;5;28;01mimport\u001B[39;00m \u001B[38;5;21;01mlibrosa\u001B[39;00m\n\u001B[1;32m      2\u001B[0m \u001B[38;5;28;01mfrom\u001B[39;00m \u001B[38;5;21;01mmatplotlib\u001B[39;00m \u001B[38;5;28;01mimport\u001B[39;00m pyplot \u001B[38;5;28;01mas\u001B[39;00m plt\n\u001B[1;32m      3\u001B[0m \u001B[38;5;28;01mimport\u001B[39;00m \u001B[38;5;21;01mtorchvision\u001B[39;00m\u001B[38;5;21;01m.\u001B[39;00m\u001B[38;5;21;01mtransforms\u001B[39;00m \u001B[38;5;28;01mas\u001B[39;00m \u001B[38;5;21;01mVT\u001B[39;00m\n",
      "\u001B[0;31mModuleNotFoundError\u001B[0m: No module named 'librosa'"
     ]
    }
   ],
   "source": [
    "import librosa\n",
    "from matplotlib import pyplot as plt\n",
    "import torchvision.transforms as VT\n",
    "from serina import SoundDataset, vision_transform_without_resize, waveform_to_mel_spectrogram, standardize, SAMPLE_RATE,waveform_to_spectrogram"
   ]
  },
  {
   "cell_type": "code",
   "execution_count": null,
   "outputs": [],
   "source": [
    "class CutSoundDataset(SoundDataset):\n",
    "    def __init__(self, start=0, end=1):\n",
    "        super().__init__(start, end)\n",
    "\n",
    "    def __len__(self):\n",
    "        return super().__len__() * 2\n",
    "\n",
    "    def __getitem__(self, item):\n",
    "        real = int(item / 2)\n",
    "        offset = item % 2\n",
    "        # waveform,\n",
    "        waveform, sample_rate, file_path, category = self.get_raw_info(real)\n",
    "        # vision_transform_without_resize(waveform)\n",
    "        # waveform = standardize(waveform, sample_rate, SAMPLE_RATE)\n",
    "        spec = waveform_to_spectrogram(waveform, sample_rate)\n",
    "        return spec, sample_rate,file_path\n",
    "\n",
    "\n",
    "ds = CutSoundDataset()"
   ],
   "metadata": {
    "collapsed": false,
    "ExecuteTime": {
     "start_time": "2024-01-05T04:47:20.570185315Z"
    }
   },
   "id": "9be22b568d1cec9f"
  },
  {
   "cell_type": "code",
   "execution_count": null,
   "outputs": [],
   "source": [
    "spec,sr,path = ds[0]\n",
    "\n",
    "y, sr = librosa.load(path)\n",
    "_,ax3 = plt.subplots()\n",
    "ax3.plot(y);\n",
    "ax3.set_title('Signal');\n",
    "ax3.set_xlabel('Time (samples)');\n",
    "ax3.set_ylabel('Amplitude');\n",
    "\n",
    "\n",
    "_,ax4 = plt.subplots()\n",
    "mel_spect = librosa.feature.melspectrogram(y=y, sr=sr, n_fft=2048, hop_length=1024)\n",
    "# mel_spect = librosa.power_to_db(spect, ref=np.max)\n",
    "librosa.display.specshow(mel_spect, y_axis='mel', fmax=8000, x_axis='time',ax=ax4);\n",
    "\n",
    "fig, ax2 = plt.subplots()\n",
    "# ax2.set_title(\"Raw Specturm\")\n",
    "# plt.title(\"Spectrogram\")\n",
    "ax2.set_xlabel(\"Time\")\n",
    "ax2.set_ylabel(\"Frequency\")\n",
    "# plt.colorbar(format='%+2.0f dB')\n",
    "# m = waveform_to_mel_spectrogram(spec, sr)\n",
    "ax2.imshow(VT.ToPILImage()(spec))\n",
    "# ax2.imshow(spec)"
   ],
   "metadata": {
    "collapsed": false,
    "ExecuteTime": {
     "end_time": "2024-01-05T04:47:20.571034345Z",
     "start_time": "2024-01-05T04:47:20.570605104Z"
    }
   },
   "id": "ea4e8a37800a75a7"
  },
  {
   "cell_type": "code",
   "execution_count": null,
   "outputs": [],
   "source": [],
   "metadata": {
    "collapsed": false,
    "ExecuteTime": {
     "start_time": "2024-01-05T04:47:20.570829130Z"
    }
   },
   "id": "8bd6f96c967c3877"
  }
 ],
 "metadata": {
  "kernelspec": {
   "display_name": "Python 3",
   "language": "python",
   "name": "python3"
  },
  "language_info": {
   "codemirror_mode": {
    "name": "ipython",
    "version": 2
   },
   "file_extension": ".py",
   "mimetype": "text/x-python",
   "name": "python",
   "nbconvert_exporter": "python",
   "pygments_lexer": "ipython2",
   "version": "2.7.6"
  }
 },
 "nbformat": 4,
 "nbformat_minor": 5
}
